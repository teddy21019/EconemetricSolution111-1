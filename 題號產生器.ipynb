{
 "cells": [
  {
   "cell_type": "code",
   "execution_count": 1,
   "metadata": {},
   "outputs": [],
   "source": [
    "def create_title_section(title:str, comment:str = \"\")->str:\n",
    "    to_return = f\"\"\"\n",
    "\n",
    "    \\t\\t\\t\\t//======================//\n",
    "    \\t\\t\\t\\t//\\t\\t\\t\\t\\t\\t//\n",
    "    \\t\\t\\t\\t//\\t\\t\\t{title}\\t\\t\\t//\n",
    "    \\t\\t\\t\\t//\\t\\t\\t\\t\\t\\t//\n",
    "    \\t\\t\\t\\t//======================//\n",
    "    \"\"\" \n",
    "    add_comment = f\"\\t\\t\\t\\t//\\t{comment} \\n\" if comment != \"\" else \"\"\n",
    "\n",
    "    return to_return + add_comment"
   ]
  },
  {
   "cell_type": "code",
   "execution_count": 53,
   "metadata": {},
   "outputs": [
    {
     "name": "stdout",
     "output_type": "stream",
     "text": [
      "\n",
      "\n",
      "    \t\t\t\t//======================//\n",
      "    \t\t\t\t//\t\t\t\t\t\t//\n",
      "    \t\t\t\t//\t\t\t(e)\t\t\t//\n",
      "    \t\t\t\t//\t\t\t\t\t\t//\n",
      "    \t\t\t\t//======================//\n",
      "    \t\t\t\t//\t比較SSEe\n"
     ]
    }
   ],
   "source": [
    "print(create_title_section(\"(e)\", \"比較SSEe\"))"
   ]
  },
  {
   "cell_type": "code",
   "execution_count": 2,
   "metadata": {},
   "outputs": [],
   "source": [
    "def comment_list_to_block(ll:list):\n",
    "    alphabets = [*\"abcdefghijklmnop\"]\n",
    "    for i,l in enumerate(ll):\n",
    "        alph = f\"({alphabets[i]})\"\n",
    "        print(create_title_section(alph, l))\n"
   ]
  },
  {
   "cell_type": "code",
   "execution_count": 4,
   "metadata": {},
   "outputs": [
    {
     "name": "stdout",
     "output_type": "stream",
     "text": [
      "\n",
      "\n",
      "    \t\t\t\t//======================//\n",
      "    \t\t\t\t//\t\t\t\t\t\t//\n",
      "    \t\t\t\t//\t\t\t(a)\t\t\t//\n",
      "    \t\t\t\t//\t\t\t\t\t\t//\n",
      "    \t\t\t\t//======================//\n",
      "    \t\t\t\t//\tBeta : Exxon-Mobil vs Microsoft \n",
      "\n",
      "\n",
      "\n",
      "    \t\t\t\t//======================//\n",
      "    \t\t\t\t//\t\t\t\t\t\t//\n",
      "    \t\t\t\t//\t\t\t(b)\t\t\t//\n",
      "    \t\t\t\t//\t\t\t\t\t\t//\n",
      "    \t\t\t\t//======================//\n",
      "    \t\t\t\t//\tH0 : beta = 1 for Ford, GE, Exxon \n",
      "\n",
      "\n",
      "\n",
      "    \t\t\t\t//======================//\n",
      "    \t\t\t\t//\t\t\t\t\t\t//\n",
      "    \t\t\t\t//\t\t\t(c)\t\t\t//\n",
      "    \t\t\t\t//\t\t\t\t\t\t//\n",
      "    \t\t\t\t//======================//\n",
      "    \t\t\t\t//\tH0 : beta ≥ 1 for Exxon \n",
      "\n",
      "\n",
      "\n",
      "    \t\t\t\t//======================//\n",
      "    \t\t\t\t//\t\t\t\t\t\t//\n",
      "    \t\t\t\t//\t\t\t(d)\t\t\t//\n",
      "    \t\t\t\t//\t\t\t\t\t\t//\n",
      "    \t\t\t\t//======================//\n",
      "    \t\t\t\t//\tH0 : beta ≤ 1 for Microsoft \n",
      "\n",
      "\n",
      "\n",
      "    \t\t\t\t//======================//\n",
      "    \t\t\t\t//\t\t\t\t\t\t//\n",
      "    \t\t\t\t//\t\t\t(e)\t\t\t//\n",
      "    \t\t\t\t//\t\t\t\t\t\t//\n",
      "    \t\t\t\t//======================//\n",
      "    \t\t\t\t//\tH0 : cons = 0 for Ford, GE, Exxon \n",
      "\n"
     ]
    }
   ],
   "source": [
    "comment_list_to_block([\n",
    "    \"Beta : Exxon-Mobil vs Microsoft\",\n",
    "    \"H0 : beta = 1 for Ford, GE, Exxon\",\n",
    "    \"H0 : beta ≥ 1 for Exxon\",\n",
    "    \"H0 : beta ≤ 1 for Microsoft\",\n",
    "    \"H0 : cons = 0 for Ford, GE, Exxon\"   \n",
    "])"
   ]
  },
  {
   "cell_type": "code",
   "execution_count": null,
   "metadata": {},
   "outputs": [],
   "source": []
  }
 ],
 "metadata": {
  "kernelspec": {
   "display_name": "Python 3.9.7 ('base')",
   "language": "python",
   "name": "python3"
  },
  "language_info": {
   "codemirror_mode": {
    "name": "ipython",
    "version": 3
   },
   "file_extension": ".py",
   "mimetype": "text/x-python",
   "name": "python",
   "nbconvert_exporter": "python",
   "pygments_lexer": "ipython3",
   "version": "3.9.7"
  },
  "orig_nbformat": 4,
  "vscode": {
   "interpreter": {
    "hash": "ad2bdc8ecc057115af97d19610ffacc2b4e99fae6737bb82f5d7fb13d2f2c186"
   }
  }
 },
 "nbformat": 4,
 "nbformat_minor": 2
}
