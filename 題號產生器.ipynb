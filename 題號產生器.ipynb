{
 "cells": [
  {
   "cell_type": "code",
   "execution_count": 4,
   "metadata": {},
   "outputs": [],
   "source": [
    "def create_title_section(title:str, comment:str = \"\")->str:\n",
    "    to_return = f\"\"\"\n",
    "\n",
    "    \\t\\t\\t\\t//======================//\n",
    "    \\t\\t\\t\\t//\\t\\t\\t\\t\\t\\t//\n",
    "    \\t\\t\\t\\t//\\t\\t\\t{title}\\t\\t\\t//\n",
    "    \\t\\t\\t\\t//\\t\\t\\t\\t\\t\\t//\n",
    "    \\t\\t\\t\\t//======================//\n",
    "    \"\"\" \n",
    "    add_comment = f\"\\t\\t\\t\\t//\\t{comment} \\n\" if comment != \"\" else \"\"\n",
    "\n",
    "    return to_return + add_comment"
   ]
  },
  {
   "cell_type": "code",
   "execution_count": 53,
   "metadata": {},
   "outputs": [
    {
     "name": "stdout",
     "output_type": "stream",
     "text": [
      "\n",
      "\n",
      "    \t\t\t\t//======================//\n",
      "    \t\t\t\t//\t\t\t\t\t\t//\n",
      "    \t\t\t\t//\t\t\t(e)\t\t\t//\n",
      "    \t\t\t\t//\t\t\t\t\t\t//\n",
      "    \t\t\t\t//======================//\n",
      "    \t\t\t\t//\t比較SSEe\n"
     ]
    }
   ],
   "source": [
    "print(create_title_section(\"(e)\", \"比較SSEe\"))"
   ]
  },
  {
   "cell_type": "code",
   "execution_count": 5,
   "metadata": {},
   "outputs": [],
   "source": [
    "def comment_list_to_block(ll:list):\n",
    "    alphabets = [*\"abcdefghijklmnop\"]\n",
    "    for i,l in enumerate(ll):\n",
    "        alph = f\"({alphabets[i]})\"\n",
    "        print(create_title_section(alph, l))\n"
   ]
  },
  {
   "cell_type": "code",
   "execution_count": 9,
   "metadata": {},
   "outputs": [
    {
     "name": "stdout",
     "output_type": "stream",
     "text": [
      "\n",
      "\n",
      "    \t\t\t\t//======================//\n",
      "    \t\t\t\t//\t\t\t\t\t\t//\n",
      "    \t\t\t\t//\t\t\t(a)\t\t\t//\n",
      "    \t\t\t\t//\t\t\t\t\t\t//\n",
      "    \t\t\t\t//======================//\n",
      "    \t\t\t\t//\t預期係數 \n",
      "\n",
      "\n",
      "\n",
      "    \t\t\t\t//======================//\n",
      "    \t\t\t\t//\t\t\t\t\t\t//\n",
      "    \t\t\t\t//\t\t\t(b)\t\t\t//\n",
      "    \t\t\t\t//\t\t\t\t\t\t//\n",
      "    \t\t\t\t//======================//\n",
      "    \t\t\t\t//\t回歸結果 \n",
      "\n",
      "\n",
      "\n",
      "    \t\t\t\t//======================//\n",
      "    \t\t\t\t//\t\t\t\t\t\t//\n",
      "    \t\t\t\t//\t\t\t(c)\t\t\t//\n",
      "    \t\t\t\t//\t\t\t\t\t\t//\n",
      "    \t\t\t\t//======================//\n",
      "    \t\t\t\t//\t變異數解釋 \n",
      "\n",
      "\n",
      "\n",
      "    \t\t\t\t//======================//\n",
      "    \t\t\t\t//\t\t\t\t\t\t//\n",
      "    \t\t\t\t//\t\t\t(d)\t\t\t//\n",
      "    \t\t\t\t//\t\t\t\t\t\t//\n",
      "    \t\t\t\t//======================//\n",
      "    \t\t\t\t//\t檢定數量係數 \n",
      "\n",
      "\n",
      "\n",
      "    \t\t\t\t//======================//\n",
      "    \t\t\t\t//\t\t\t\t\t\t//\n",
      "    \t\t\t\t//\t\t\t(e)\t\t\t//\n",
      "    \t\t\t\t//\t\t\t\t\t\t//\n",
      "    \t\t\t\t//======================//\n",
      "    \t\t\t\t//\t檢定品質係數 \n",
      "\n",
      "\n",
      "\n",
      "    \t\t\t\t//======================//\n",
      "    \t\t\t\t//\t\t\t\t\t\t//\n",
      "    \t\t\t\t//\t\t\t(f)\t\t\t//\n",
      "    \t\t\t\t//\t\t\t\t\t\t//\n",
      "    \t\t\t\t//======================//\n",
      "    \t\t\t\t//\t解釋趨勢 \n",
      "\n"
     ]
    }
   ],
   "source": [
    "comment_list_to_block([\n",
    "    \"預期係數\",\n",
    "    \"回歸結果\",\n",
    "    \"變異數解釋\",\n",
    "    \"檢定數量係數\",\n",
    "    \"檢定品質係數\",\n",
    "    \"解釋趨勢\"\n",
    "])"
   ]
  },
  {
   "cell_type": "code",
   "execution_count": null,
   "metadata": {},
   "outputs": [],
   "source": []
  }
 ],
 "metadata": {
  "kernelspec": {
   "display_name": "Python 3",
   "language": "python",
   "name": "python3"
  },
  "language_info": {
   "codemirror_mode": {
    "name": "ipython",
    "version": 3
   },
   "file_extension": ".py",
   "mimetype": "text/x-python",
   "name": "python",
   "nbconvert_exporter": "python",
   "pygments_lexer": "ipython3",
   "version": "3.8.3"
  },
  "orig_nbformat": 4,
  "vscode": {
   "interpreter": {
    "hash": "082e9a3bcad0a290d0001e938aa60b99250c6c2ef33a923c00b70f9826caf4b7"
   }
  }
 },
 "nbformat": 4,
 "nbformat_minor": 2
}
