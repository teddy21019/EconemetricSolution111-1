{
 "cells": [
  {
   "cell_type": "code",
   "execution_count": 61,
   "metadata": {},
   "outputs": [],
   "source": [
    "def create_title_section(title:str, comment:str = \"\")->str:\n",
    "    to_return = f\"\"\"\n",
    "\n",
    "    \\t\\t\\t\\t//======================//\n",
    "    \\t\\t\\t\\t//\\t\\t\\t\\t\\t\\t//\n",
    "    \\t\\t\\t\\t//\\t\\t\\t{title}\\t\\t\\t//\n",
    "    \\t\\t\\t\\t//\\t\\t\\t\\t\\t\\t//\n",
    "    \\t\\t\\t\\t//======================//\n",
    "    \"\"\" \n",
    "    add_comment = f\"\\t\\t\\t\\t//\\t{comment} \\n\" if comment != \"\" else \"\"\n",
    "\n",
    "    return to_return + add_comment"
   ]
  },
  {
   "cell_type": "code",
   "execution_count": 53,
   "metadata": {},
   "outputs": [
    {
     "name": "stdout",
     "output_type": "stream",
     "text": [
      "\n",
      "\n",
      "    \t\t\t\t//======================//\n",
      "    \t\t\t\t//\t\t\t\t\t\t//\n",
      "    \t\t\t\t//\t\t\t(e)\t\t\t//\n",
      "    \t\t\t\t//\t\t\t\t\t\t//\n",
      "    \t\t\t\t//======================//\n",
      "    \t\t\t\t//\t比較SSEe\n"
     ]
    }
   ],
   "source": [
    "print(create_title_section(\"(e)\", \"比較SSEe\"))"
   ]
  },
  {
   "cell_type": "code",
   "execution_count": 62,
   "metadata": {},
   "outputs": [],
   "source": [
    "def comment_list_to_block(ll:list):\n",
    "    alphabets = [*\"abcdefghijklmnop\"]\n",
    "    for i,l in enumerate(ll):\n",
    "        alph = f\"({alphabets[i]})\"\n",
    "        print(create_title_section(alph, l))\n"
   ]
  },
  {
   "cell_type": "code",
   "execution_count": 64,
   "metadata": {},
   "outputs": [
    {
     "name": "stdout",
     "output_type": "stream",
     "text": [
      "\n",
      "\n",
      "    \t\t\t\t//======================//\n",
      "    \t\t\t\t//\t\t\t\t\t\t//\n",
      "    \t\t\t\t//\t\t\t(a)\t\t\t//\n",
      "    \t\t\t\t//\t\t\t\t\t\t//\n",
      "    \t\t\t\t//======================//\n",
      "    \t\t\t\t//\t觀察變數分布 \n",
      "\n",
      "\n",
      "\n",
      "    \t\t\t\t//======================//\n",
      "    \t\t\t\t//\t\t\t\t\t\t//\n",
      "    \t\t\t\t//\t\t\t(b)\t\t\t//\n",
      "    \t\t\t\t//\t\t\t\t\t\t//\n",
      "    \t\t\t\t//======================//\n",
      "    \t\t\t\t//\t對數 OLS \n",
      "\n",
      "\n",
      "\n",
      "    \t\t\t\t//======================//\n",
      "    \t\t\t\t//\t\t\t\t\t\t//\n",
      "    \t\t\t\t//\t\t\t(c)\t\t\t//\n",
      "    \t\t\t\t//\t\t\t\t\t\t//\n",
      "    \t\t\t\t//======================//\n",
      "    \t\t\t\t//\t薪資預測 \n",
      "\n",
      "\n",
      "\n",
      "    \t\t\t\t//======================//\n",
      "    \t\t\t\t//\t\t\t\t\t\t//\n",
      "    \t\t\t\t//\t\t\t(d)\t\t\t//\n",
      "    \t\t\t\t//\t\t\t\t\t\t//\n",
      "    \t\t\t\t//======================//\n",
      "    \t\t\t\t//\t邊際效果 \n",
      "\n",
      "\n",
      "\n",
      "    \t\t\t\t//======================//\n",
      "    \t\t\t\t//\t\t\t\t\t\t//\n",
      "    \t\t\t\t//\t\t\t(e)\t\t\t//\n",
      "    \t\t\t\t//\t\t\t\t\t\t//\n",
      "    \t\t\t\t//======================//\n",
      "    \t\t\t\t//\t視覺化模型比較 \n",
      "\n",
      "\n",
      "\n",
      "    \t\t\t\t//======================//\n",
      "    \t\t\t\t//\t\t\t\t\t\t//\n",
      "    \t\t\t\t//\t\t\t(f)\t\t\t//\n",
      "    \t\t\t\t//\t\t\t\t\t\t//\n",
      "    \t\t\t\t//======================//\n",
      "    \t\t\t\t//\t比較殘差 \n",
      "\n"
     ]
    }
   ],
   "source": [
    "comment_list_to_block([\n",
    "    \"觀察變數分布\",\n",
    "    \"對數 OLS\",\n",
    "    \"薪資預測\",\n",
    "    \"邊際效果\",\n",
    "    \"視覺化模型比較\",\n",
    "    \"比較殘差\"\n",
    "])"
   ]
  },
  {
   "cell_type": "code",
   "execution_count": null,
   "metadata": {},
   "outputs": [],
   "source": []
  }
 ],
 "metadata": {
  "kernelspec": {
   "display_name": "Python 3.9.7 ('base')",
   "language": "python",
   "name": "python3"
  },
  "language_info": {
   "codemirror_mode": {
    "name": "ipython",
    "version": 3
   },
   "file_extension": ".py",
   "mimetype": "text/x-python",
   "name": "python",
   "nbconvert_exporter": "python",
   "pygments_lexer": "ipython3",
   "version": "3.9.7"
  },
  "orig_nbformat": 4,
  "vscode": {
   "interpreter": {
    "hash": "ad2bdc8ecc057115af97d19610ffacc2b4e99fae6737bb82f5d7fb13d2f2c186"
   }
  }
 },
 "nbformat": 4,
 "nbformat_minor": 2
}
