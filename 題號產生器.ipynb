{
 "cells": [
  {
   "cell_type": "code",
   "execution_count": 1,
   "metadata": {},
   "outputs": [],
   "source": [
    "def create_title_section(title:str, comment:str = \"\")->str:\n",
    "    to_return = f\"\"\"\n",
    "\n",
    "    \\t\\t\\t\\t//======================//\n",
    "    \\t\\t\\t\\t//\\t\\t\\t\\t\\t\\t//\n",
    "    \\t\\t\\t\\t//\\t\\t\\t{title}\\t\\t\\t//\n",
    "    \\t\\t\\t\\t//\\t\\t\\t\\t\\t\\t//\n",
    "    \\t\\t\\t\\t//======================//\n",
    "    \"\"\" \n",
    "    add_comment = f\"\\t\\t\\t\\t//\\t{comment} \\n\" if comment != \"\" else \"\"\n",
    "\n",
    "    return to_return + add_comment"
   ]
  },
  {
   "cell_type": "code",
   "execution_count": 53,
   "metadata": {},
   "outputs": [
    {
     "name": "stdout",
     "output_type": "stream",
     "text": [
      "\n",
      "\n",
      "    \t\t\t\t//======================//\n",
      "    \t\t\t\t//\t\t\t\t\t\t//\n",
      "    \t\t\t\t//\t\t\t(e)\t\t\t//\n",
      "    \t\t\t\t//\t\t\t\t\t\t//\n",
      "    \t\t\t\t//======================//\n",
      "    \t\t\t\t//\t比較SSEe\n"
     ]
    }
   ],
   "source": [
    "print(create_title_section(\"(e)\", \"比較SSEe\"))"
   ]
  },
  {
   "cell_type": "code",
   "execution_count": 2,
   "metadata": {},
   "outputs": [],
   "source": [
    "def comment_list_to_block(ll:list):\n",
    "    alphabets = [*\"abcdefghijklmnop\"]\n",
    "    for i,l in enumerate(ll):\n",
    "        alph = f\"({alphabets[i]})\"\n",
    "        print(create_title_section(alph, l))\n"
   ]
  },
  {
   "cell_type": "code",
   "execution_count": 11,
   "metadata": {},
   "outputs": [
    {
     "name": "stdout",
     "output_type": "stream",
     "text": [
      "\n",
      "\n",
      "    \t\t\t\t//======================//\n",
      "    \t\t\t\t//\t\t\t\t\t\t//\n",
      "    \t\t\t\t//\t\t\t(a)\t\t\t//\n",
      "    \t\t\t\t//\t\t\t\t\t\t//\n",
      "    \t\t\t\t//======================//\n",
      "    \t\t\t\t//\t國小地理報告 \n",
      "\n",
      "\n",
      "\n",
      "    \t\t\t\t//======================//\n",
      "    \t\t\t\t//\t\t\t\t\t\t//\n",
      "    \t\t\t\t//\t\t\t(b)\t\t\t//\n",
      "    \t\t\t\t//\t\t\t\t\t\t//\n",
      "    \t\t\t\t//======================//\n",
      "    \t\t\t\t//\tPFOOD~log_TOTEXP 回歸 \n",
      "\n",
      "\n",
      "\n",
      "    \t\t\t\t//======================//\n",
      "    \t\t\t\t//\t\t\t\t\t\t//\n",
      "    \t\t\t\t//\t\t\t(c)\t\t\t//\n",
      "    \t\t\t\t//\t\t\t\t\t\t//\n",
      "    \t\t\t\t//======================//\n",
      "    \t\t\t\t//\t食品支出相對總支出的彈性 \n",
      "\n",
      "\n",
      "\n",
      "    \t\t\t\t//======================//\n",
      "    \t\t\t\t//\t\t\t\t\t\t//\n",
      "    \t\t\t\t//\t\t\t(d)\t\t\t//\n",
      "    \t\t\t\t//\t\t\t\t\t\t//\n",
      "    \t\t\t\t//======================//\n",
      "    \t\t\t\t//\t繪製殘差 \n",
      "\n",
      "\n",
      "\n",
      "    \t\t\t\t//======================//\n",
      "    \t\t\t\t//\t\t\t\t\t\t//\n",
      "    \t\t\t\t//\t\t\t(e)\t\t\t//\n",
      "    \t\t\t\t//\t\t\t\t\t\t//\n",
      "    \t\t\t\t//======================//\n",
      "    \t\t\t\t//\t估計log-log 回歸 \n",
      "\n",
      "\n",
      "\n",
      "    \t\t\t\t//======================//\n",
      "    \t\t\t\t//\t\t\t\t\t\t//\n",
      "    \t\t\t\t//\t\t\t(f)\t\t\t//\n",
      "    \t\t\t\t//\t\t\t\t\t\t//\n",
      "    \t\t\t\t//======================//\n",
      "    \t\t\t\t//\t繪製殘差 part2 \n",
      "\n",
      "\n",
      "\n",
      "    \t\t\t\t//======================//\n",
      "    \t\t\t\t//\t\t\t\t\t\t//\n",
      "    \t\t\t\t//\t\t\t(g)\t\t\t//\n",
      "    \t\t\t\t//\t\t\t\t\t\t//\n",
      "    \t\t\t\t//======================//\n",
      "    \t\t\t\t//\tFOOD~log_TOTEXP 回歸 \n",
      "\n",
      "\n",
      "\n",
      "    \t\t\t\t//======================//\n",
      "    \t\t\t\t//\t\t\t\t\t\t//\n",
      "    \t\t\t\t//\t\t\t(h)\t\t\t//\n",
      "    \t\t\t\t//\t\t\t\t\t\t//\n",
      "    \t\t\t\t//======================//\n",
      "    \t\t\t\t//\t繪製殘差 part3  \n",
      "\n",
      "\n",
      "\n",
      "    \t\t\t\t//======================//\n",
      "    \t\t\t\t//\t\t\t\t\t\t//\n",
      "    \t\t\t\t//\t\t\t(i)\t\t\t//\n",
      "    \t\t\t\t//\t\t\t\t\t\t//\n",
      "    \t\t\t\t//======================//\n",
      "    \t\t\t\t//\t模型選擇 \n",
      "\n"
     ]
    }
   ],
   "source": [
    "comment_list_to_block([\n",
    "    \"國小地理報告\",\n",
    "    \"PFOOD~log_TOTEXP 回歸\",\n",
    "    \"食品支出相對總支出的彈性\",\n",
    "    \"繪製殘差\",\n",
    "    \"估計log-log 回歸\",\n",
    "    \"繪製殘差 part2\",\n",
    "    \"FOOD~log_TOTEXP 回歸\",\n",
    "    \"繪製殘差 part3 \",\n",
    "    \"模型選擇\"\n",
    "])"
   ]
  },
  {
   "cell_type": "code",
   "execution_count": null,
   "metadata": {},
   "outputs": [],
   "source": []
  }
 ],
 "metadata": {
  "kernelspec": {
   "display_name": "Python 3.9.7 ('base')",
   "language": "python",
   "name": "python3"
  },
  "language_info": {
   "codemirror_mode": {
    "name": "ipython",
    "version": 3
   },
   "file_extension": ".py",
   "mimetype": "text/x-python",
   "name": "python",
   "nbconvert_exporter": "python",
   "pygments_lexer": "ipython3",
   "version": "3.9.7"
  },
  "orig_nbformat": 4,
  "vscode": {
   "interpreter": {
    "hash": "ad2bdc8ecc057115af97d19610ffacc2b4e99fae6737bb82f5d7fb13d2f2c186"
   }
  }
 },
 "nbformat": 4,
 "nbformat_minor": 2
}
